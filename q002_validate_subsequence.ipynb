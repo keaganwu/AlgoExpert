{
  "nbformat": 4,
  "nbformat_minor": 0,
  "metadata": {
    "colab": {
      "provenance": [],
      "toc_visible": true
    },
    "kernelspec": {
      "name": "python3",
      "display_name": "Python 3"
    },
    "language_info": {
      "name": "python"
    }
  },
  "cells": [
    {
      "cell_type": "markdown",
      "source": [
        "## Problem Description\n",
        "https://leetcode.com/problems/is-subsequence/description/\n",
        "\n",
        "Given two strings `s` and `t`, return `true` if `s` is a subsequence of `t`, or `false` otherwise.\n",
        "\n",
        "A subsequence of a string is a new string that is formed from the original string by deleting some (can be none) of the characters without disturbing the relative positions of the remaining characters. (i.e., \"ace\" is a subsequence of \"abcde\" while \"aec\" is not).\n",
        "\n",
        "### Example 1:\n",
        "\n",
        "**Input:**  \n",
        "`s = \"abc\"`, `t = \"ahbgdc\"`  \n",
        "**Output:**  \n",
        "`true`\n",
        "\n",
        "### Example 2:\n",
        "\n",
        "**Input:**  \n",
        "`s = \"axc\"`, `t = \"ahbgdc\"`  \n",
        "**Output:**  \n",
        "`false`\n",
        "\n",
        "### Constraints:\n",
        "\n",
        "- `0 <= s.length <= 100`\n",
        "- `0 <= t.length <= 10^4`\n",
        "- `s` and `t` consist only of lowercase English letters.\n",
        "\n",
        "### Follow-up:\n",
        "\n",
        "Suppose there are lots of incoming `s`, say `s1, s2, ..., sk` where `k >= 10^9`, and you want to check one by one to see if `t` has its subsequence. In this scenario, how would you change your code?\n"
      ],
      "metadata": {
        "id": "yYVFHdKUcVUq"
      }
    },
    {
      "cell_type": "code",
      "source": [
        "class IsSubsequence:\n",
        "    def method1(self, s, t):\n",
        "        # Time: O(n)\n",
        "        # Space: O(1)\n",
        "        s_index = 0\n",
        "        t_index = 0\n",
        "        while s_index < len(s) and t_index < len(t):\n",
        "            if s[s_index] == t[t_index]:\n",
        "                s_index += 1\n",
        "            t_index += 1\n",
        "        return s_index == len(s)\n",
        "\n",
        "    def method2(self, s, t):\n",
        "        # Time: O(n)\n",
        "        # Space: O(1)\n",
        "        s_index = 0\n",
        "        for t_value in t:\n",
        "            if s_index == len(s):\n",
        "                return True\n",
        "            if s[s_index] == t_value:\n",
        "                s_index += 1\n",
        "        return s_index == len(s)\n"
      ],
      "metadata": {
        "id": "5X3CO3kqhXho"
      },
      "execution_count": 9,
      "outputs": []
    },
    {
      "cell_type": "code",
      "source": [
        "# Define the test cases\n",
        "test_cases_is_subsequence = [\n",
        "    (\"abc\", \"ahbgdc\", True),    # 'abc' is a subsequence of 'ahbgdc'\n",
        "    (\"axc\", \"ahbgdc\", False),   # 'axc' is not a subsequence of 'ahbgdc'\n",
        "    (\"\", \"ahbgdc\", True),       # Empty string is a subsequence of any string\n",
        "    (\"abc\", \"\", False),         # Non-empty string is not a subsequence of an empty string\n",
        "    (\"abc\", \"abc\", True),       # Exact match, 'abc' is a subsequence of 'abc'\n",
        "    (\"abc\", \"acb\", False)       # 'abc' is not a subsequence of 'acb' (order matters)\n",
        "]\n",
        "\n",
        "# Define the results storage\n",
        "results_is_subsequence = {\"method1\": [], \"method2\": []}\n",
        "\n",
        "# Assuming an IsSubsequence class with method1 and method2 implementations\n",
        "is_subsequence_checker = IsSubsequence()\n",
        "\n",
        "# Run the tests for both methods\n",
        "for s, t, expected in test_cases_is_subsequence:\n",
        "    result1 = is_subsequence_checker.method1(s, t)\n",
        "    result2 = is_subsequence_checker.method2(s, t)\n",
        "    results_is_subsequence[\"method1\"].append((s, t, result1, expected, result1 == expected))\n",
        "    results_is_subsequence[\"method2\"].append((s, t, result2, expected, result2 == expected))\n",
        "\n",
        "# Convert the results to dataframes\n",
        "df_method1 = pd.DataFrame(results_is_subsequence[\"method1\"], columns=[\"Input s\", \"Input t\", \"Output\", \"Expected\", \"Pass\"])\n",
        "df_method2 = pd.DataFrame(results_is_subsequence[\"method2\"], columns=[\"Input s\", \"Input t\", \"Output\", \"Expected\", \"Pass\"])\n",
        "df_method1, df_method2"
      ],
      "metadata": {
        "colab": {
          "base_uri": "https://localhost:8080/"
        },
        "id": "69nVXiWPt_zB",
        "outputId": "c5c7bbe5-5172-4465-a1a9-56bb94ffef5a"
      },
      "execution_count": 10,
      "outputs": [
        {
          "output_type": "execute_result",
          "data": {
            "text/plain": [
              "(  Input s Input t  Output  Expected  Pass\n",
              " 0     abc  ahbgdc    True      True  True\n",
              " 1     axc  ahbgdc   False     False  True\n",
              " 2          ahbgdc    True      True  True\n",
              " 3     abc           False     False  True\n",
              " 4     abc     abc    True      True  True\n",
              " 5     abc     acb   False     False  True,\n",
              "   Input s Input t  Output  Expected  Pass\n",
              " 0     abc  ahbgdc    True      True  True\n",
              " 1     axc  ahbgdc   False     False  True\n",
              " 2          ahbgdc    True      True  True\n",
              " 3     abc           False     False  True\n",
              " 4     abc     abc    True      True  True\n",
              " 5     abc     acb   False     False  True)"
            ]
          },
          "metadata": {},
          "execution_count": 10
        }
      ]
    }
  ]
}