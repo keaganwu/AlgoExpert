{
  "nbformat": 4,
  "nbformat_minor": 0,
  "metadata": {
    "colab": {
      "provenance": []
    },
    "kernelspec": {
      "name": "python3",
      "display_name": "Python 3"
    },
    "language_info": {
      "name": "python"
    }
  },
  "cells": [
    {
      "cell_type": "markdown",
      "source": [
        "## Problem Description\n",
        "\n",
        "Given an integer array `nums` sorted in non-decreasing order, return an array of the squares of each number sorted in non-decreasing order.\n",
        "\n",
        "### Example 1:\n",
        "\n",
        "**Input:** `nums = [-4,-1,0,3,10]`\n",
        "\n",
        "**Output:** `[0,1,9,16,100]`\n",
        "\n",
        "**Explanation:**  \n",
        "After squaring, the array becomes `[16, 1, 0, 9, 100]`.  \n",
        "After sorting, it becomes `[0, 1, 9, 16, 100]`.\n",
        "\n",
        "### Example 2:\n",
        "\n",
        "**Input:** `nums = [-7,-3,2,3,11]`\n",
        "\n",
        "**Output:** `[4,9,9,49,121]`\n",
        "\n",
        "### Constraints:\n",
        "\n",
        "- `1 <= nums.length <= 10^4`\n",
        "- `-10^4 <= nums[i] <= 10^4`\n",
        "- `nums` is sorted in non-decreasing order.\n",
        "\n",
        "### Follow-up:\n",
        "\n",
        "Squaring each element and sorting the new array is trivial. Could you find an O(n) solution using a different approach?"
      ],
      "metadata": {
        "id": "_1N8vRbyT18O"
      }
    },
    {
      "cell_type": "code",
      "execution_count": 19,
      "metadata": {
        "id": "KXPj769gTMI0"
      },
      "outputs": [],
      "source": [
        "class SquaresOfASortedArray:\n",
        "    def method1(self, nums):\n",
        "        # Sorting and Squaring\n",
        "        # Time: O(n log n)\n",
        "        # Space: O(n)\n",
        "        sorted_nums = sorted(nums, key=abs)\n",
        "        sorted_nums = [num**2 for num in sorted_nums]\n",
        "        return sorted_nums\n",
        "\n",
        "    def method2(self, nums):\n",
        "        # Two Pointer\n",
        "        # Time: O(n)\n",
        "        # Space: O(n)\n",
        "        left = 0\n",
        "        right = len(nums) - 1\n",
        "        result = [0 for num in nums]\n",
        "        idx = len(nums) - 1\n",
        "        while idx >= 0:\n",
        "            left_abs = abs(nums[left])\n",
        "            right_abs = abs(nums[right])\n",
        "            if left_abs <= right_abs:\n",
        "                result[idx] = right_abs ** 2\n",
        "                right -= 1\n",
        "            if left_abs > right_abs:\n",
        "                result[idx] = left_abs ** 2\n",
        "                left += 1\n",
        "            idx -= 1\n",
        "        return result\n"
      ]
    },
    {
      "cell_type": "code",
      "source": [
        "# Define test cases for methods that calculate squares of sorted array elements\n",
        "test_cases = [\n",
        "    ([1, 2, 3], [1, 4, 9]),  # Simple case\n",
        "    ([-3, -1, 0, 1, 2], [0, 1, 1, 4, 9]),  # Mix of negative and positive\n",
        "    ([], []),  # Empty list\n",
        "    ([-2, -1], [1, 4])  # All negative\n",
        "]\n",
        "\n",
        "# Instantiate the class\n",
        "squares_calculator = SquaresOfASortedArray()\n",
        "\n",
        "# Dictionary to store results from each method\n",
        "results = {\"method1\": [], \"method2\": []}\n",
        "\n",
        "# Execute each method on all test cases\n",
        "for nums, expected in test_cases:\n",
        "    result1 = squares_calculator.method1(nums)\n",
        "    result2 = squares_calculator.method2(nums)\n",
        "    results[\"method1\"].append((nums, result1, expected, result1 == expected))\n",
        "    results[\"method2\"].append((nums, result2, expected, result2 == expected))\n",
        "\n",
        "# Use pandas to create dataframes from the results\n",
        "import pandas as pd\n",
        "df_method1 = pd.DataFrame(results[\"method1\"], columns=[\"Input\", \"Output\", \"Expected\", \"Pass\"])\n",
        "df_method2 = pd.DataFrame(results[\"method2\"], columns=[\"Input\", \"Output\", \"Expected\", \"Pass\"])\n",
        "df_method1, df_method2"
      ],
      "metadata": {
        "colab": {
          "base_uri": "https://localhost:8080/"
        },
        "id": "vayF7t-6UnoM",
        "outputId": "b6893cb0-48c0-4900-9dac-d15f7b8e7856"
      },
      "execution_count": 24,
      "outputs": [
        {
          "output_type": "execute_result",
          "data": {
            "text/plain": [
              "(               Input           Output         Expected  Pass\n",
              " 0          [1, 2, 3]        [1, 4, 9]        [1, 4, 9]  True\n",
              " 1  [-3, -1, 0, 1, 2]  [0, 1, 1, 4, 9]  [0, 1, 1, 4, 9]  True\n",
              " 2                 []               []               []  True\n",
              " 3           [-2, -1]           [1, 4]           [1, 4]  True,\n",
              "                Input           Output         Expected  Pass\n",
              " 0          [1, 2, 3]        [1, 4, 9]        [1, 4, 9]  True\n",
              " 1  [-3, -1, 0, 1, 2]  [0, 1, 1, 4, 9]  [0, 1, 1, 4, 9]  True\n",
              " 2                 []               []               []  True\n",
              " 3           [-2, -1]           [1, 4]           [1, 4]  True)"
            ]
          },
          "metadata": {},
          "execution_count": 24
        }
      ]
    }
  ]
}