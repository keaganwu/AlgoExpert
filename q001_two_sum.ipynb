{
  "nbformat": 4,
  "nbformat_minor": 0,
  "metadata": {
    "colab": {
      "provenance": [],
      "toc_visible": true
    },
    "kernelspec": {
      "name": "python3",
      "display_name": "Python 3"
    },
    "language_info": {
      "name": "python"
    }
  },
  "cells": [
    {
      "cell_type": "markdown",
      "source": [
        "## Problem Description\n",
        "https://leetcode.com/problems/two-sum/description/\n",
        "\n",
        "Given an array of integers `nums` and an integer `target`, return indices of the two numbers such that they add up to `target`.\n",
        "\n",
        "You may assume that each input would have exactly one solution, and you may not use the same element twice.\n",
        "\n",
        "You can return the answer in any order.\n",
        "\n",
        "### Example 1\n",
        "\n",
        "**Input:** `nums = [2, 7, 11, 15]`, `target = 9`  \n",
        "**Output:** `[0, 1]`  \n",
        "**Explanation:** Because `nums[0] + nums[1] == 9`, we return `[0, 1]`.\n",
        "\n",
        "### Example 2\n",
        "\n",
        "**Input:** `nums = [3, 2, 4]`, `target = 6`  \n",
        "**Output:** `[1, 2]`\n",
        "\n",
        "### Example 3\n",
        "*italicized text*\n",
        "**Input:** `nums = [3, 3]`, `target = 6`  \n",
        "**Output:** `[0, 1]`\n",
        "\n",
        "## Constraints\n",
        "\n",
        "- `2 <= nums.length <= 10^4`\n",
        "- `-10^9 <= nums[i] <= 10^9`\n",
        "- `-10^9 <= target <= 10^9`\n",
        "\n",
        "Only one valid answer exists.\n",
        "\n",
        "## Follow-up\n",
        "\n",
        "Can you come up with an algorithm that is less than O(n^2) time complexity?\n",
        "\n",
        "## Related Topics\n",
        "\n",
        "- Array\n",
        "- Hash Table\n"
      ],
      "metadata": {
        "id": "snKuwt1Axmol"
      }
    },
    {
      "cell_type": "code",
      "execution_count": 44,
      "metadata": {
        "id": "V5TSDEw1xlAK"
      },
      "outputs": [],
      "source": [
        "class TwoSum:\n",
        "    def method1(self, nums, target):\n",
        "        # Brute Force\n",
        "        # Time: O(n ^2)\n",
        "        # Space: O(1)\n",
        "        for i in range(len(nums) - 1):\n",
        "            first_num = nums[i]\n",
        "            for j in range(i+1, len(nums)):\n",
        "                second_num = nums[j]\n",
        "                total = first_num + second_num\n",
        "                if total == target:\n",
        "                    return [i, j]\n",
        "        return None\n",
        "\n",
        "    def method2(self, nums, target):\n",
        "        # Two Pointer\n",
        "        # Time: O(n log n)\n",
        "        # Space: O(1)\n",
        "        sorted_nums = sorted(nums)\n",
        "        left = 0\n",
        "        right = len(nums) - 1\n",
        "        while left < right:\n",
        "            left_num = sorted_nums[left]\n",
        "            right_num = sorted_nums[right]\n",
        "            total = left_num + right_num\n",
        "            if total == target:\n",
        "                left_index = nums.index(left_num)\n",
        "                right_index = len(nums) - 1 - nums[::-1].index(right_num)\n",
        "                return [left_index, right_index]\n",
        "            elif total < target:\n",
        "                left += 1\n",
        "            elif total > target:\n",
        "                right -= 1\n",
        "        return None\n",
        "\n",
        "\n",
        "    def method3(self, nums, target):\n",
        "        # Hash Map\n",
        "        # Time: O(n)\n",
        "        # Space: O(n)\n",
        "        hashmap = {}\n",
        "        for index, num in enumerate(nums):\n",
        "            diff = target - num\n",
        "            if diff in hashmap:\n",
        "                return [hashmap[diff], index]\n",
        "            hashmap[num] = index\n",
        "        return None\n",
        "\n",
        "\n"
      ]
    },
    {
      "cell_type": "code",
      "source": [
        "# Test cases\n",
        "test_cases = [\n",
        "    ([2, 7, 11, 15], 9, [0, 1]),\n",
        "    ([3, 2, 4], 6, [1, 2]),\n",
        "    ([3, 3], 6, [0, 1]),\n",
        "    ([1, 2, 3, 4, 5], 10, None),\n",
        "    ([0, 4, 3, 0], 0, [0, 3])\n",
        "]\n",
        "\n",
        "# Run tests for both methods\n",
        "results = {\"method1\": [], \"method2\": [], \"method3\": []}\n",
        "two_sum = TwoSum()\n",
        "\n",
        "for nums, target, expected in test_cases:\n",
        "    result1 = two_sum.method1(nums, target)\n",
        "    result2 = two_sum.method2(nums, target)\n",
        "    result3 = two_sum.method3(nums, target)\n",
        "    results[\"method1\"].append((nums, target, result1, expected, result1 == expected))\n",
        "    results[\"method2\"].append((nums, target, result2, expected, result2 == expected))\n",
        "    results[\"method3\"].append((nums, target, result3, expected, result3 == expected))\n",
        "\n",
        "\n",
        "import pandas as pd\n",
        "\n",
        "df_method1 = pd.DataFrame(results[\"method1\"], columns=[\"Input\", \"Target\", \"Output\", \"Expected\", \"Pass\"])\n",
        "df_method2 = pd.DataFrame(results[\"method2\"], columns=[\"Input\", \"Target\", \"Output\", \"Expected\", \"Pass\"])\n",
        "df_method3 = pd.DataFrame(results[\"method3\"], columns=[\"Input\", \"Target\", \"Output\", \"Expected\", \"Pass\"])\n",
        "\n",
        "\n",
        "df_method1, df_method2, df_method3"
      ],
      "metadata": {
        "colab": {
          "base_uri": "https://localhost:8080/"
        },
        "id": "JDpGO4t5QYFm",
        "outputId": "30e21609-b299-4232-a5fb-4b53bccef404"
      },
      "execution_count": 45,
      "outputs": [
        {
          "output_type": "execute_result",
          "data": {
            "text/plain": [
              "(             Input  Target  Output Expected  Pass\n",
              " 0   [2, 7, 11, 15]       9  [0, 1]   [0, 1]  True\n",
              " 1        [3, 2, 4]       6  [1, 2]   [1, 2]  True\n",
              " 2           [3, 3]       6  [0, 1]   [0, 1]  True\n",
              " 3  [1, 2, 3, 4, 5]      10    None     None  True\n",
              " 4     [0, 4, 3, 0]       0  [0, 3]   [0, 3]  True,\n",
              "              Input  Target  Output Expected  Pass\n",
              " 0   [2, 7, 11, 15]       9  [0, 1]   [0, 1]  True\n",
              " 1        [3, 2, 4]       6  [1, 2]   [1, 2]  True\n",
              " 2           [3, 3]       6  [0, 1]   [0, 1]  True\n",
              " 3  [1, 2, 3, 4, 5]      10    None     None  True\n",
              " 4     [0, 4, 3, 0]       0  [0, 3]   [0, 3]  True,\n",
              "              Input  Target  Output Expected  Pass\n",
              " 0   [2, 7, 11, 15]       9  [0, 1]   [0, 1]  True\n",
              " 1        [3, 2, 4]       6  [1, 2]   [1, 2]  True\n",
              " 2           [3, 3]       6  [0, 1]   [0, 1]  True\n",
              " 3  [1, 2, 3, 4, 5]      10    None     None  True\n",
              " 4     [0, 4, 3, 0]       0  [0, 3]   [0, 3]  True)"
            ]
          },
          "metadata": {},
          "execution_count": 45
        }
      ]
    }
  ]
}